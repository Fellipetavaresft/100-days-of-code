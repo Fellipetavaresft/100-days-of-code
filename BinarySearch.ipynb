{
  "nbformat": 4,
  "nbformat_minor": 0,
  "metadata": {
    "colab": {
      "name": "BinarySearch.ipynb",
      "provenance": [],
      "authorship_tag": "ABX9TyNCmFbDbD2dMg3GuM7naZlu",
      "include_colab_link": true
    },
    "kernelspec": {
      "name": "python3",
      "display_name": "Python 3"
    }
  },
  "cells": [
    {
      "cell_type": "markdown",
      "metadata": {
        "id": "view-in-github",
        "colab_type": "text"
      },
      "source": [
        "<a href=\"https://colab.research.google.com/github/Fellipetavaresft/100-days-of-code/blob/master/BinarySearch.ipynb\" target=\"_parent\"><img src=\"https://colab.research.google.com/assets/colab-badge.svg\" alt=\"Open In Colab\"/></a>"
      ]
    },
    {
      "cell_type": "code",
      "metadata": {
        "id": "b6dkNqRoZ7Km",
        "colab_type": "code",
        "colab": {}
      },
      "source": [
        "def binarySearch(array, key):\n",
        "  length = len(array)\n",
        "  left = 0\n",
        "  right = length - 1\n",
        "  \n",
        "  while(left <= right):\n",
        "    middle = int((left + right)/2)\n",
        "    if array[middle] == key:\n",
        "      print (middle)\n",
        "      break\n",
        "    if key < array[middle]:\n",
        "      right = middle - 1\n",
        "    if key > array[middle]:\n",
        "      left = middle + 1\n",
        "  else:\n",
        "    print(\"Value not found\")"
      ],
      "execution_count": 0,
      "outputs": []
    },
    {
      "cell_type": "code",
      "metadata": {
        "id": "tUMAp78qAmvW",
        "colab_type": "code",
        "colab": {
          "base_uri": "https://localhost:8080/",
          "height": 34
        },
        "outputId": "bd79d7e8-8ea9-4c92-d31d-e510097a6f81"
      },
      "source": [
        "x = [1,2,3,4,5,6,7,8,9,10]\n",
        "y = 2\n",
        "\n",
        "binarySearch(x,y)\n"
      ],
      "execution_count": 50,
      "outputs": [
        {
          "output_type": "stream",
          "text": [
            "1\n"
          ],
          "name": "stdout"
        }
      ]
    }
  ]
}