{
  "nbformat": 4,
  "nbformat_minor": 0,
  "metadata": {
    "colab": {
      "name": "Desafios_Level_I.ipynb",
      "provenance": [],
      "authorship_tag": "ABX9TyP3+wKznJsLOmSPDQQm3Eg/",
      "include_colab_link": true
    },
    "kernelspec": {
      "name": "python3",
      "display_name": "Python 3"
    }
  },
  "cells": [
    {
      "cell_type": "markdown",
      "metadata": {
        "id": "view-in-github",
        "colab_type": "text"
      },
      "source": [
        "<a href=\"https://colab.research.google.com/github/Fellipetavaresft/100-days-of-code/blob/master/Desafios_Level_I.ipynb\" target=\"_parent\"><img src=\"https://colab.research.google.com/assets/colab-badge.svg\" alt=\"Open In Colab\"/></a>"
      ]
    },
    {
      "cell_type": "code",
      "metadata": {
        "id": "R9N8uOkfz-l0",
        "colab_type": "code",
        "colab": {
          "base_uri": "https://localhost:8080/",
          "height": 85
        },
        "outputId": "a4a2015f-869f-403e-e9f4-6331d7088f48"
      },
      "source": [
        "# Faça um programa que peça dois números inteiros e imprima a soma desses números\n",
        "print(\"Entre com dois números inteiros:\")\n",
        "\n",
        "x = int(input('Informe o primeiro número: '))\n",
        "y = int(input('informe o segundo número: '))\n",
        "\n",
        "print (\"A soma é: \",x + y)"
      ],
      "execution_count": 13,
      "outputs": [
        {
          "output_type": "stream",
          "text": [
            "Entre com dois números inteiros:\n",
            "Informe o primeiro número: 3\n",
            "informe o segundo número: 2\n",
            "A soma é:  5\n"
          ],
          "name": "stdout"
        }
      ]
    },
    {
      "cell_type": "code",
      "metadata": {
        "id": "uNDGAu22FY0s",
        "colab_type": "code",
        "colab": {
          "base_uri": "https://localhost:8080/",
          "height": 68
        },
        "outputId": "4d443dd9-3c97-4567-e319-838c52d130d7"
      },
      "source": [
        "#Escreva um programa que leia um valor em metros e o exiba convertido em milimetros\n",
        "\n",
        "print(\"Converta metros para milímetro\")\n",
        "\n",
        "x = input(\"Insira o valor em metros para converter em milímetros:\")\n",
        "x = float(x)\n",
        "print(\"O valor convertido em milímitros é: \",x*1000)"
      ],
      "execution_count": 23,
      "outputs": [
        {
          "output_type": "stream",
          "text": [
            "Converta metros para milímetro\n",
            "Insira o valor em metros para converter em milímetros:2.3\n",
            "O valor convertido em milímitros é:  2300.0\n"
          ],
          "name": "stdout"
        }
      ]
    },
    {
      "cell_type": "code",
      "metadata": {
        "id": "i9TryPoXJsxS",
        "colab_type": "code",
        "colab": {}
      },
      "source": [
        "#horas\n",
        "num_1 = 1 + 4J\n",
        "\n",
        "num_3 = True + 1"
      ],
      "execution_count": 0,
      "outputs": []
    },
    {
      "cell_type": "code",
      "metadata": {
        "id": "jYoERwlmLGJ6",
        "colab_type": "code",
        "colab": {
          "base_uri": "https://localhost:8080/",
          "height": 248
        },
        "outputId": "54fa3e2b-9dc9-4fd7-f82f-e1e656cbf8e8"
      },
      "source": [
        "# Faça um programa que calcule o aumento de um salário.\n",
        "\n",
        "x = input(\"Qual o valor do salário que deseja corrigir? (Separe a casa decimal com .): \")\n",
        "y = input(\"Qual o valor da porcentagem aplicada de reajuste? (coloque o valor da porcentagem sem %): \")\n",
        "\n",
        "z = float(x) * float(y)/100 + float(x)\n",
        "\n",
        "print(\"O novo salário é:\",z)\n",
        "\n"
      ],
      "execution_count": 30,
      "outputs": [
        {
          "output_type": "stream",
          "text": [
            "Qual o valor do salário que deseja corrigir? (Separe a casa decimal com .): 1000\n",
            "Qual o valor da porcentagem aplicada de reajuste? (coloque o valor da porcentagem sem %): 10\n"
          ],
          "name": "stdout"
        },
        {
          "output_type": "error",
          "ename": "NameError",
          "evalue": "ignored",
          "traceback": [
            "\u001b[0;31m---------------------------------------------------------------------------\u001b[0m",
            "\u001b[0;31mNameError\u001b[0m                                 Traceback (most recent call last)",
            "\u001b[0;32m<ipython-input-30-343dc3300bfd>\u001b[0m in \u001b[0;36m<module>\u001b[0;34m()\u001b[0m\n\u001b[1;32m      5\u001b[0m \u001b[0mz\u001b[0m \u001b[0;34m=\u001b[0m \u001b[0mfloat\u001b[0m\u001b[0;34m(\u001b[0m\u001b[0mx\u001b[0m\u001b[0;34m)\u001b[0m \u001b[0;34m*\u001b[0m \u001b[0mfloat\u001b[0m\u001b[0;34m(\u001b[0m\u001b[0my\u001b[0m\u001b[0;34m)\u001b[0m\u001b[0;34m/\u001b[0m\u001b[0;36m100\u001b[0m \u001b[0;34m+\u001b[0m \u001b[0mfloat\u001b[0m\u001b[0;34m(\u001b[0m\u001b[0mx\u001b[0m\u001b[0;34m)\u001b[0m\u001b[0;34m\u001b[0m\u001b[0;34m\u001b[0m\u001b[0m\n\u001b[1;32m      6\u001b[0m \u001b[0;34m\u001b[0m\u001b[0m\n\u001b[0;32m----> 7\u001b[0;31m \u001b[0mprint\u001b[0m\u001b[0;34m(\u001b[0m\u001b[0;34m\"O novo salário é:\"\u001b[0m\u001b[0;34m,\u001b[0m\u001b[0mZ\u001b[0m\u001b[0;34m)\u001b[0m\u001b[0;34m\u001b[0m\u001b[0;34m\u001b[0m\u001b[0m\n\u001b[0m\u001b[1;32m      8\u001b[0m \u001b[0;34m\u001b[0m\u001b[0m\n",
            "\u001b[0;31mNameError\u001b[0m: name 'Z' is not defined"
          ]
        }
      ]
    },
    {
      "cell_type": "code",
      "metadata": {
        "id": "GD17CyYoMDFB",
        "colab_type": "code",
        "colab": {}
      },
      "source": [
        ""
      ],
      "execution_count": 0,
      "outputs": []
    }
  ]
}